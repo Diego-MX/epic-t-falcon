{
 "cells": [
  {
   "cell_type": "code",
   "execution_count": 0,
   "metadata": {
    "application/vnd.databricks.v1+cell": {
     "cellMetadata": {},
     "inputWidgets": {},
     "nuid": "c2842e76-c424-43e9-ad3e-215d406fb95f",
     "showTitle": false,
     "title": ""
    }
   },
   "outputs": [],
   "source": [
    "import os\n",
    "import sys \n",
    "root = Path(os.getcwd()).parent\n",
    "sys.path.append(root)\n",
    "\n",
    "from pathlib import Path\n",
    "from epic_py.utilities import read_excel_table\n",
    "\n"
   ]
  },
  {
   "cell_type": "code",
   "execution_count": 0,
   "metadata": {
    "application/vnd.databricks.v1+cell": {
     "cellMetadata": {},
     "inputWidgets": {},
     "nuid": "661cb54c-6e85-491e-a301-69fee14f0020",
     "showTitle": false,
     "title": ""
    }
   },
   "outputs": [],
   "source": [
    "xl_file = Path('../refs/data/Ejemplo DAMNA.xlsx.lnk')\n",
    "\n",
    "b_df = read_excel_table(xl_file, 'win-1252', 'win_1252')"
   ]
  },
  {
   "cell_type": "code",
   "execution_count": 0,
   "metadata": {
    "application/vnd.databricks.v1+cell": {
     "cellMetadata": {},
     "inputWidgets": {},
     "nuid": "fc32819a-59be-46f4-9454-1483d63bd923",
     "showTitle": false,
     "title": ""
    }
   },
   "outputs": [],
   "source": [
    "b_test = b_df.iloc[524:535, 55:60]\n"
   ]
  },
  {
   "cell_type": "code",
   "execution_count": 0,
   "metadata": {
    "application/vnd.databricks.v1+cell": {
     "cellMetadata": {},
     "inputWidgets": {},
     "nuid": "e7bae0fc-2268-49fe-a8f6-d0921229e858",
     "showTitle": false,
     "title": ""
    }
   },
   "outputs": [],
   "source": [
    "from codecs import encode, decode\n",
    "\n",
    "latinchars = 'ÁÉÍÓÚÑáéíóúñ'\n",
    "print(f\"utf-8   : {encode(latinchars, 'utf-8')}\")\n",
    "print(f\"win-1252: {encode(latinchars, 'windows-1252')}\")\n",
    "encode(encode(latinchars, 'windows-1252'), 'utf-8')\n",
    "\n",
    "\n"
   ]
  },
  {
   "cell_type": "code",
   "execution_count": 0,
   "metadata": {
    "application/vnd.databricks.v1+cell": {
     "cellMetadata": {},
     "inputWidgets": {},
     "nuid": "4fc01df4-50aa-40c9-ad7f-12cb78023f94",
     "showTitle": false,
     "title": ""
    }
   },
   "outputs": [],
   "source": [
    "encode(\"hellÔ!\", \"iso-8859-1\")"
   ]
  }
 ],
 "metadata": {
  "application/vnd.databricks.v1+notebook": {
   "dashboards": [],
   "language": "python",
   "notebookMetadata": {
    "pythonIndentUnit": 4
   },
   "notebookName": "dv_amna_encoding",
   "widgets": {}
  },
  "kernelspec": {
   "display_name": "Python 3 (ipykernel)",
   "language": "python",
   "name": "python3"
  },
  "language_info": {
   "codemirror_mode": {
    "name": "ipython",
    "version": 3
   },
   "file_extension": ".py",
   "mimetype": "text/x-python",
   "name": "python",
   "nbconvert_exporter": "python",
   "pygments_lexer": "ipython3",
   "version": "3.8.5"
  }
 },
 "nbformat": 4,
 "nbformat_minor": 0
}
